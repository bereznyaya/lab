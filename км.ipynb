{
  "nbformat": 4,
  "nbformat_minor": 0,
  "metadata": {
    "colab": {
      "provenance": [],
      "authorship_tag": "ABX9TyNs77lkyKOdN0crtPe38DAA",
      "include_colab_link": true
    },
    "kernelspec": {
      "name": "python3",
      "display_name": "Python 3"
    },
    "language_info": {
      "name": "python"
    }
  },
  "cells": [
    {
      "cell_type": "markdown",
      "metadata": {
        "id": "view-in-github",
        "colab_type": "text"
      },
      "source": [
        "<a href=\"https://colab.research.google.com/github/bereznyaya/lab/blob/main/%D0%BA%D0%BC.ipynb\" target=\"_parent\"><img src=\"https://colab.research.google.com/assets/colab-badge.svg\" alt=\"Open In Colab\"/></a>"
      ]
    },
    {
      "cell_type": "code",
      "execution_count": null,
      "metadata": {
        "id": "hLESiJBxWoTJ"
      },
      "outputs": [],
      "source": []
    },
    {
      "cell_type": "markdown",
      "source": [
        "Задача для км\n"
      ],
      "metadata": {
        "id": "0EdOE-siW-_f"
      }
    },
    {
      "cell_type": "code",
      "source": [
        "t=0\n",
        "p=1.0133*10**5\n",
        "V=64\n",
        "R=8.3145\n",
        "T=0+273.15\n",
        "M=(12+1*4)*10**(-3)\n",
        "m=(p*V*M)/(R*T)\n",
        "print(m)\n"
      ],
      "metadata": {
        "colab": {
          "base_uri": "https://localhost:8080/"
        },
        "id": "7BQePfBRZEVw",
        "outputId": "a59cba8b-cfa4-4c12-d536-98732f8eaef9"
      },
      "execution_count": 14,
      "outputs": [
        {
          "output_type": "stream",
          "name": "stdout",
          "text": [
            "45.68784321319615\n"
          ]
        }
      ]
    },
    {
      "cell_type": "code",
      "source": [
        "pip install CoolProp"
      ],
      "metadata": {
        "colab": {
          "base_uri": "https://localhost:8080/"
        },
        "id": "pj5Y4xYTYCPy",
        "outputId": "d76e7d81-446c-4f76-8289-6f2e99a0ffe2"
      },
      "execution_count": 1,
      "outputs": [
        {
          "output_type": "stream",
          "name": "stdout",
          "text": [
            "Looking in indexes: https://pypi.org/simple, https://us-python.pkg.dev/colab-wheels/public/simple/\n",
            "Collecting CoolProp\n",
            "  Downloading CoolProp-6.4.3.post1-cp39-cp39-manylinux_2_17_x86_64.manylinux2014_x86_64.whl (6.2 MB)\n",
            "\u001b[2K     \u001b[90m━━━━━━━━━━━━━━━━━━━━━━━━━━━━━━━━━━━━━━━━\u001b[0m \u001b[32m6.2/6.2 MB\u001b[0m \u001b[31m22.2 MB/s\u001b[0m eta \u001b[36m0:00:00\u001b[0m\n",
            "\u001b[?25hInstalling collected packages: CoolProp\n",
            "Successfully installed CoolProp-6.4.3.post1\n"
          ]
        }
      ]
    },
    {
      "cell_type": "code",
      "source": [
        "import numpy as np\n",
        "import CoolProp.CoolProp as ct \n",
        "import matplotlib.pyplot as plt\n",
        "t=np.linspace (0,383.15,100)\n",
        "Fluid_name='CH4'\n",
        "#10-100 gradus\n",
        "V=64\n",
        "R=8.31\n",
        "M=0.0016\n",
        "p=101325\n",
        "d=ct.PropsSI('D','P',p,'T',t,Fluid_name)\n",
        "m=d*V\n",
        "t1=ct.PropsSI('T','P',p,'Q',1,Fluid_name)\n",
        "d1=ct.PropsSI('D','P',p,'T',111.667,Fluid_name)\n",
        "m1=d1*V\n",
        "m2=p*V*M/(R*t)\n",
        "plt.plot(t,m,'r')\n",
        "plt.scatter(111.667,27030.78,color='blue')\n",
        "plt.title('график')\n",
        "plt.grid()\n",
        "plt.show()\n",
        "print(m)\n",
        "print('t1=',t1)\n",
        "print('m1=',m1)"
      ],
      "metadata": {
        "colab": {
          "base_uri": "https://localhost:8080/",
          "height": 955
        },
        "id": "byLu6I9KXCYt",
        "outputId": "a4285295-de47-40b3-80d4-d50b61ad9557"
      },
      "execution_count": 26,
      "outputs": [
        {
          "output_type": "stream",
          "name": "stderr",
          "text": [
            "<ipython-input-26-45ca483d8e9d>:16: RuntimeWarning: divide by zero encountered in true_divide\n",
            "  m2=p*V*M/(R*t)\n"
          ]
        },
        {
          "output_type": "display_data",
          "data": {
            "text/plain": [
              "<Figure size 640x480 with 1 Axes>"
            ],
            "image/png": "[encoded data removed]"
          },
          "metadata": {}
        },
        {
          "output_type": "stream",
          "name": "stdout",
          "text": [
            "[           inf            inf            inf            inf\n",
            "            inf            inf            inf            inf\n",
            "            inf            inf            inf            inf\n",
            "            inf            inf            inf            inf\n",
            "            inf            inf            inf            inf\n",
            "            inf            inf            inf            inf\n",
            " 28711.02081569 28376.5439239  28036.61872714 27690.59495135\n",
            " 27337.75594364   115.59194798   111.32376918   107.39118569\n",
            "   103.7507679    100.36753835    97.21259281    94.2616524\n",
            "    91.49407716    88.89214959    86.44053463    84.12586325\n",
            "    81.93640563    79.86181132    77.89290011    76.02149185\n",
            "    74.24026682    72.54265       70.92271439    69.37509982\n",
            "    67.8949441     66.47782441    65.1197071     63.81690448\n",
            "    62.56603739    61.36400274    60.20794514    59.09523207\n",
            "    58.02343206    56.99029546    55.9937374     55.03182268\n",
            "    54.10275234    53.20485171    52.3365596     51.49641879\n",
            "    50.68306733    49.8952308     49.13171528    48.39140103\n",
            "    47.6732367     46.97623421    46.29946392    45.64205039\n",
            "    45.00316842    44.38203943    43.77792827    43.19014011\n",
            "    42.61801775    42.06093905    41.51831464    40.98958575\n",
            "    40.47422221    39.9717207     39.48160298    39.0034144\n",
            "    38.53672242    38.08111526    37.63620072    37.20160495\n",
            "    36.77697144    36.36195999    35.9562458     35.55951858\n",
            "    35.17148177    34.79185178    34.42035727    34.05673851\n",
            "    33.70074675    33.35214364    33.01070072    32.67619888]\n",
            "t1= 111.66720547358071\n",
            "m1= 27030.788658566315\n"
          ]
        }
      ]
    }
  ]
}