{
  "nbformat": 4,
  "nbformat_minor": 0,
  "metadata": {
    "colab": {
      "provenance": [],
      "authorship_tag": "ABX9TyMpWWUxiLf9QKeBC3BE/USF",
      "include_colab_link": true
    },
    "kernelspec": {
      "name": "python3",
      "display_name": "Python 3"
    },
    "language_info": {
      "name": "python"
    }
  },
  "cells": [
    {
      "cell_type": "markdown",
      "metadata": {
        "id": "view-in-github",
        "colab_type": "text"
      },
      "source": [
        "<a href=\"https://colab.research.google.com/github/bereznyaya/lab/blob/main/%D0%B7%D0%B0%D1%87%D0%B5%D1%82.ipynb\" target=\"_parent\"><img src=\"https://colab.research.google.com/assets/colab-badge.svg\" alt=\"Open In Colab\"/></a>"
      ]
    },
    {
      "cell_type": "code",
      "execution_count": null,
      "metadata": {
        "id": "6GvGs4ujnexi"
      },
      "outputs": [],
      "source": []
    },
    {
      "cell_type": "markdown",
      "source": [
        "Решить систему уравнений в среде Colaboratory"
      ],
      "metadata": {
        "id": "JmwFPNprnkIr"
      }
    },
    {
      "cell_type": "code",
      "source": [
        "#импортируем библиотеку sympy\n",
        "from sympy import * \n",
        "#создаем переменные x и y как символьные переменные\n",
        "x, y = symbols('x y')\n",
        "#создаем уравнения с помощью функции Eq и задаем им значения\n",
        "eq1 = Eq(x**2 - 7*x*y + 8*y**2, 13)\n",
        "eq2 = Eq(x**2 - 10*x*y + 12*y**2, 17)\n",
        "#решаем систему уравнений с помощью функции solve\n",
        "res = solve((eq1, eq2), (x, y))\n",
        "#выводим решение функции\n",
        "print(res)"
      ],
      "metadata": {
        "colab": {
          "base_uri": "https://localhost:8080/"
        },
        "id": "RUnbAMVAtK9q",
        "outputId": "0ac9c1f7-717a-4112-cb68-44b7f6e6e44a"
      },
      "execution_count": 8,
      "outputs": [
        {
          "output_type": "stream",
          "name": "stdout",
          "text": [
            "[(-5, -4), (-2, 1/2), (2, -1/2), (5, 4)]\n"
          ]
        }
      ]
    },
    {
      "cell_type": "markdown",
      "source": [
        "Библиотека SymPy используется для выполнения символьных математических вычислений, что позволяет обрабатывать и упрощать уравнения в виде символьных выражений. В данном случае в библиотеке использовались две функции: symbols('x y') и solve(). Функция symbols() используется для создания символьных переменных, а функция solve() для решения уравнений. "
      ],
      "metadata": {
        "id": "rDz5Ifauvk-Z"
      }
    }
  ]
}